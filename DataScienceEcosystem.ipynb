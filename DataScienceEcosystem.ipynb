{
 "cells": [
  {
   "cell_type": "code",
   "execution_count": null,
   "id": "2a537c44-f7ef-4c65-8f1f-2cf7f21b951e",
   "metadata": {},
   "outputs": [],
   "source": [
    "#Exercise 2: Create markdown cell with title of the notebook"
   ]
  },
  {
   "cell_type": "markdown",
   "id": "c02d0248-d11e-4f1a-8bac-1a0c47411f69",
   "metadata": {},
   "source": [
    "# Data Science Tools and Ecosystem"
   ]
  },
  {
   "cell_type": "code",
   "execution_count": null,
   "id": "70f5e163-18b8-4a16-b76d-67f9589b2993",
   "metadata": {},
   "outputs": [],
   "source": [
    "#Exercise 3: Create a markdown cell for an introduction"
   ]
  },
  {
   "cell_type": "markdown",
   "id": "ee8db560-f89d-4ed5-b60e-d4800500508e",
   "metadata": {},
   "source": [
    "## In this notebook, Data Science Tools and Ecosystem are summarized"
   ]
  },
  {
   "cell_type": "code",
   "execution_count": null,
   "id": "764c945b-8e17-4348-8bd3-5301a7f6f39d",
   "metadata": {},
   "outputs": [],
   "source": [
    "#Exercise 10: Insert a markdown cell to list objectives"
   ]
  },
  {
   "cell_type": "markdown",
   "id": "550b794b-2ed8-48d6-ae59-70f7ec3d82b6",
   "metadata": {},
   "source": [
    "__Objectives:__\n",
    "- Creating markdown cells in Python\n",
    "- Popular languages that Data Scientists use\n",
    "- Commonly used libraries by Data Scientists\n",
    "- Evaluating Arithmetic expressions in Python\n",
    "- Creating a code in Python to convert 200 minutes to hours"
   ]
  },
  {
   "cell_type": "code",
   "execution_count": null,
   "id": "31f66e65-7a33-4c5a-b9c7-4d95c7d07cbe",
   "metadata": {},
   "outputs": [],
   "source": [
    "Exercise 4: Create markdown cell to list data science languages"
   ]
  },
  {
   "cell_type": "markdown",
   "id": "5c966450-17e2-48ce-9841-8d83ccaabee3",
   "metadata": {},
   "source": [
    "### _Some of the popular languages that Data Scientists use are:_\n",
    "\n",
    "1. Python\n",
    "2. R\n",
    "3. SQL\n",
    "4. Julia\n",
    "5. Java\n",
    "6. Scala\n",
    "7. Matlab"
   ]
  },
  {
   "cell_type": "code",
   "execution_count": null,
   "id": "2ac8bd03-d2f9-4f96-8bde-22d0a3eba166",
   "metadata": {},
   "outputs": [],
   "source": [
    "#Exercise 5: Create a markdown cell to list data science libraries"
   ]
  },
  {
   "cell_type": "markdown",
   "id": "840ff677-019a-4aee-aec2-f7b04502a7df",
   "metadata": {},
   "source": [
    "### _Some of the commonly used labraries by Data Scientists include:_\n",
    "1. Pandas\n",
    "2. scikit-learn\n",
    "3. SciPy\n",
    "4. NumPy\n",
    "5. Seaborn\n",
    "6. Matplotlib\n",
    "7. TensorFlow\n",
    "8. PyTorch\n",
    "9. Keras\n",
    "10. NLT (Natural Language Toolkit)"
   ]
  },
  {
   "cell_type": "code",
   "execution_count": null,
   "id": "c519a07e-401e-4b7c-b38f-cd5e9f42d395",
   "metadata": {},
   "outputs": [],
   "source": [
    "#Exercise 6: Create a markdown cell with a table of Data Science tools"
   ]
  },
  {
   "cell_type": "markdown",
   "id": "531d8295-245d-44a4-af21-947a80b9a8ce",
   "metadata": {},
   "source": [
    "| Data Science Tools |\n",
    "----------------------\n",
    "| Jupyter Notebook   |\n",
    "| RStudio            |\n",
    "| Visual Studio Code (VS Code) |"
   ]
  },
  {
   "cell_type": "code",
   "execution_count": null,
   "id": "fcc59eb7-14fc-4273-bf65-3cd9e5033073",
   "metadata": {},
   "outputs": [],
   "source": [
    "#Exercise 7: Create a code cell to multiply and add numbers"
   ]
  },
  {
   "cell_type": "markdown",
   "id": "992887c3-dc22-4ecd-8736-024cafa34036",
   "metadata": {},
   "source": [
    "### Below are a few examples of evaluating arithmetic expressions in Python"
   ]
  },
  {
   "cell_type": "code",
   "execution_count": null,
   "id": "842dbfd1-b361-4888-9895-0fccec9aa050",
   "metadata": {},
   "outputs": [],
   "source": [
    "#Exercise 8: Create a code cell to multiply and add numbers"
   ]
  },
  {
   "cell_type": "code",
   "execution_count": 2,
   "id": "8b808bcf-3bb3-4c70-a440-0bfa7fe76aec",
   "metadata": {},
   "outputs": [
    {
     "data": {
      "text/plain": [
       "17"
      ]
     },
     "execution_count": 2,
     "metadata": {},
     "output_type": "execute_result"
    }
   ],
   "source": [
    "#This is a simple arithmetic expression to multiply then add integers\n",
    "(3*4)+5"
   ]
  },
  {
   "cell_type": "code",
   "execution_count": null,
   "id": "c9077538-d67d-446d-ba62-c103acd10e44",
   "metadata": {},
   "outputs": [],
   "source": [
    "#Exercise 9: Create a code to convert minutes to hours"
   ]
  },
  {
   "cell_type": "code",
   "execution_count": 5,
   "id": "49718ae7-7eee-4cfa-a07b-80ab3bc576fd",
   "metadata": {},
   "outputs": [
    {
     "name": "stdout",
     "output_type": "stream",
     "text": [
      "200 minutes is equal to 3.33 hrs\n"
     ]
    }
   ],
   "source": [
    "#This will convert 200 minutes to hours by dividing by 60\n",
    "minutes = 200\n",
    "hours = minutes/60\n",
    "print(f\"{minutes} minutes is equal to {hours:.2f} hrs\")"
   ]
  },
  {
   "cell_type": "code",
   "execution_count": null,
   "id": "9cc3af3a-2fe1-4e3f-a940-2be3039d08aa",
   "metadata": {},
   "outputs": [],
   "source": [
    "#Exercise 11: Create a markdown cell to indicate the Author's name"
   ]
  },
  {
   "cell_type": "markdown",
   "id": "144c29a5-6b13-4fd9-970e-be0e178566a6",
   "metadata": {},
   "source": [
    "## Author\n",
    "Marvel Zerub Adzomani"
   ]
  },
  {
   "cell_type": "code",
   "execution_count": null,
   "id": "d64c0051-eb15-4de1-9002-07dabcfc4a3d",
   "metadata": {},
   "outputs": [],
   "source": []
  }
 ],
 "metadata": {
  "kernelspec": {
   "display_name": "Python 3 (ipykernel)",
   "language": "python",
   "name": "python3"
  },
  "language_info": {
   "codemirror_mode": {
    "name": "ipython",
    "version": 3
   },
   "file_extension": ".py",
   "mimetype": "text/x-python",
   "name": "python",
   "nbconvert_exporter": "python",
   "pygments_lexer": "ipython3",
   "version": "3.11.7"
  }
 },
 "nbformat": 4,
 "nbformat_minor": 5
}
